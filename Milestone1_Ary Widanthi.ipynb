{
 "cells": [
  {
   "attachments": {},
   "cell_type": "markdown",
   "metadata": {},
   "source": [
    "# Perkenalan\n",
    "\n",
    "---\n",
    "\n",
    "Nama    : Made Ary Widanthi\n",
    "\n",
    "Batch   : RMT-20\n",
    "\n",
    "Kelas   : FTDS\n",
    "\n",
    "Link Visualisasi: https://lookerstudio.google.com/reporting/7da6302f-a248-4361-b5df-a9dfced3d219\n",
    "\n",
    "---"
   ]
  },
  {
   "attachments": {},
   "cell_type": "markdown",
   "metadata": {},
   "source": [
    "# Identifikasi Masalah\n",
    "\n",
    "Latar Belakang: <br>\n",
    "Udemy adalah platform online open course masif yang menawarkan kursus gratis dan berbayar yang dimana Siapa saja dapat membuat kursus yang memungkinkan Udemy memiliki ratusan ribu kursus. Dataset ini berisi 3.682 catatan kursus dari 4 mata pelajaran (Business Finance, Graphic Design, Musical Instruments and Web Design) yang diambil dari Udemy.<br>\n",
    "\n",
    "Topik Permasalahan: <br>\n",
    "Udemy banyak memiliki course dengan berbagai subject. Dan saat ini Udemy ingin menyediakan course untuk subject yang peminatnya masih sedikit(Graphic Design). Maka dari itu akan di analisa korelasi antara jumlah subscriber dengan aspek lainnya seperti harga, durasi course, jumlah course dll.\n",
    "\n",
    "Problem Statement: <br>\n",
    "Mengetahui Preferensi Udemy User Dengan Tujuan Memudahkan Platform Udemy Untuk Memfilter Kriteria Course Yang Paling Diminati Pengguna Udemy.\n",
    "\n",
    "Penjabaran 5W + 1H:\n",
    "1. Subject berbayar apa yang paling diminati oleh Udemy users?\n",
    "2. Tipe Course yang seperti apa yang diminati oleh Udemy users?\n",
    "3. Apakah ada korelasi antara jumlah subscriber dengan data numerikal lainnya?\n",
    "4. Bagaimana perbandingan jumlah peminat course pertahunnya?\n",
    "5. Apakah ada perbedaan jumlah subscriber dari tahun ke tahun?\n",
    "6. Subject apa yang perlu memiliki peminat paling rendah? dan apa upaya untuk meningkatkan jumlah subscriber?\n",
    "\n",
    "\n",
    "\n",
    "\n"
   ]
  },
  {
   "attachments": {},
   "cell_type": "markdown",
   "metadata": {},
   "source": [
    "# Import Library"
   ]
  },
  {
   "cell_type": "code",
   "execution_count": 1,
   "metadata": {},
   "outputs": [],
   "source": [
    "import pandas as pd\n",
    "import seaborn as sns\n",
    "import scipy.stats as stats\n",
    "from scipy.stats import spearmanr\n",
    "import matplotlib.pyplot as plt"
   ]
  },
  {
   "attachments": {},
   "cell_type": "markdown",
   "metadata": {},
   "source": [
    "# Data Loading\n",
    "\n",
    "source: Kaggle https://www.kaggle.com/datasets/andrewmvd/udemy-courses <br>"
   ]
  },
  {
   "attachments": {},
   "cell_type": "markdown",
   "metadata": {},
   "source": [
    "Features: <br>\n",
    "course_id - id field for courses <br>\n",
    "course_title - title field for courses<br>\n",
    "url - url field to course page<br>\n",
    "is_paid - boolean field - True for Paid / False for Free<br>\n",
    "price - price field for course fee<br>\n",
    "num_subscribers - demand field for each courses<br>\n",
    "num_reviews - review number for each courses<br>\n",
    "num_lectures - lecture per course<br>\n",
    "level - course level by trainee experience<br>\n",
    "content_duration - course duration in hours<br>\n",
    "published_timestamp - timestamp field for publication<br>\n",
    "subject - course type field<br>"
   ]
  },
  {
   "cell_type": "code",
   "execution_count": 2,
   "metadata": {},
   "outputs": [
    {
     "data": {
      "text/html": [
       "<div>\n",
       "<style scoped>\n",
       "    .dataframe tbody tr th:only-of-type {\n",
       "        vertical-align: middle;\n",
       "    }\n",
       "\n",
       "    .dataframe tbody tr th {\n",
       "        vertical-align: top;\n",
       "    }\n",
       "\n",
       "    .dataframe thead th {\n",
       "        text-align: right;\n",
       "    }\n",
       "</style>\n",
       "<table border=\"1\" class=\"dataframe\">\n",
       "  <thead>\n",
       "    <tr style=\"text-align: right;\">\n",
       "      <th></th>\n",
       "      <th>course_id</th>\n",
       "      <th>course_title</th>\n",
       "      <th>url</th>\n",
       "      <th>is_paid</th>\n",
       "      <th>price</th>\n",
       "      <th>num_subscribers</th>\n",
       "      <th>num_reviews</th>\n",
       "      <th>num_lectures</th>\n",
       "      <th>level</th>\n",
       "      <th>content_duration</th>\n",
       "      <th>published_timestamp</th>\n",
       "      <th>subject</th>\n",
       "    </tr>\n",
       "  </thead>\n",
       "  <tbody>\n",
       "    <tr>\n",
       "      <th>0</th>\n",
       "      <td>1070968</td>\n",
       "      <td>Ultimate Investment Banking Course</td>\n",
       "      <td>https://www.udemy.com/ultimate-investment-bank...</td>\n",
       "      <td>True</td>\n",
       "      <td>200</td>\n",
       "      <td>2147</td>\n",
       "      <td>23</td>\n",
       "      <td>51</td>\n",
       "      <td>All Levels</td>\n",
       "      <td>1.5</td>\n",
       "      <td>2017-01-18T20:58:58Z</td>\n",
       "      <td>Business Finance</td>\n",
       "    </tr>\n",
       "    <tr>\n",
       "      <th>1</th>\n",
       "      <td>1113822</td>\n",
       "      <td>Complete GST Course &amp; Certification - Grow You...</td>\n",
       "      <td>https://www.udemy.com/goods-and-services-tax/</td>\n",
       "      <td>True</td>\n",
       "      <td>75</td>\n",
       "      <td>2792</td>\n",
       "      <td>923</td>\n",
       "      <td>274</td>\n",
       "      <td>All Levels</td>\n",
       "      <td>39.0</td>\n",
       "      <td>2017-03-09T16:34:20Z</td>\n",
       "      <td>Business Finance</td>\n",
       "    </tr>\n",
       "    <tr>\n",
       "      <th>2</th>\n",
       "      <td>1006314</td>\n",
       "      <td>Financial Modeling for Business Analysts and C...</td>\n",
       "      <td>https://www.udemy.com/financial-modeling-for-b...</td>\n",
       "      <td>True</td>\n",
       "      <td>45</td>\n",
       "      <td>2174</td>\n",
       "      <td>74</td>\n",
       "      <td>51</td>\n",
       "      <td>Intermediate Level</td>\n",
       "      <td>2.5</td>\n",
       "      <td>2016-12-19T19:26:30Z</td>\n",
       "      <td>Business Finance</td>\n",
       "    </tr>\n",
       "    <tr>\n",
       "      <th>3</th>\n",
       "      <td>1210588</td>\n",
       "      <td>Beginner to Pro - Financial Analysis in Excel ...</td>\n",
       "      <td>https://www.udemy.com/complete-excel-finance-c...</td>\n",
       "      <td>True</td>\n",
       "      <td>95</td>\n",
       "      <td>2451</td>\n",
       "      <td>11</td>\n",
       "      <td>36</td>\n",
       "      <td>All Levels</td>\n",
       "      <td>3.0</td>\n",
       "      <td>2017-05-30T20:07:24Z</td>\n",
       "      <td>Business Finance</td>\n",
       "    </tr>\n",
       "    <tr>\n",
       "      <th>4</th>\n",
       "      <td>1011058</td>\n",
       "      <td>How To Maximize Your Profits Trading Options</td>\n",
       "      <td>https://www.udemy.com/how-to-maximize-your-pro...</td>\n",
       "      <td>True</td>\n",
       "      <td>200</td>\n",
       "      <td>1276</td>\n",
       "      <td>45</td>\n",
       "      <td>26</td>\n",
       "      <td>Intermediate Level</td>\n",
       "      <td>2.0</td>\n",
       "      <td>2016-12-13T14:57:18Z</td>\n",
       "      <td>Business Finance</td>\n",
       "    </tr>\n",
       "  </tbody>\n",
       "</table>\n",
       "</div>"
      ],
      "text/plain": [
       "   course_id                                       course_title  \\\n",
       "0    1070968                 Ultimate Investment Banking Course   \n",
       "1    1113822  Complete GST Course & Certification - Grow You...   \n",
       "2    1006314  Financial Modeling for Business Analysts and C...   \n",
       "3    1210588  Beginner to Pro - Financial Analysis in Excel ...   \n",
       "4    1011058       How To Maximize Your Profits Trading Options   \n",
       "\n",
       "                                                 url  is_paid  price  \\\n",
       "0  https://www.udemy.com/ultimate-investment-bank...     True    200   \n",
       "1      https://www.udemy.com/goods-and-services-tax/     True     75   \n",
       "2  https://www.udemy.com/financial-modeling-for-b...     True     45   \n",
       "3  https://www.udemy.com/complete-excel-finance-c...     True     95   \n",
       "4  https://www.udemy.com/how-to-maximize-your-pro...     True    200   \n",
       "\n",
       "   num_subscribers  num_reviews  num_lectures               level  \\\n",
       "0             2147           23            51          All Levels   \n",
       "1             2792          923           274          All Levels   \n",
       "2             2174           74            51  Intermediate Level   \n",
       "3             2451           11            36          All Levels   \n",
       "4             1276           45            26  Intermediate Level   \n",
       "\n",
       "   content_duration   published_timestamp           subject  \n",
       "0               1.5  2017-01-18T20:58:58Z  Business Finance  \n",
       "1              39.0  2017-03-09T16:34:20Z  Business Finance  \n",
       "2               2.5  2016-12-19T19:26:30Z  Business Finance  \n",
       "3               3.0  2017-05-30T20:07:24Z  Business Finance  \n",
       "4               2.0  2016-12-13T14:57:18Z  Business Finance  "
      ]
     },
     "execution_count": 2,
     "metadata": {},
     "output_type": "execute_result"
    }
   ],
   "source": [
    "#read data\n",
    "df = pd.read_csv('udemy_courses.csv')\n",
    "df.head()"
   ]
  },
  {
   "cell_type": "code",
   "execution_count": 3,
   "metadata": {},
   "outputs": [
    {
     "data": {
      "text/html": [
       "<div>\n",
       "<style scoped>\n",
       "    .dataframe tbody tr th:only-of-type {\n",
       "        vertical-align: middle;\n",
       "    }\n",
       "\n",
       "    .dataframe tbody tr th {\n",
       "        vertical-align: top;\n",
       "    }\n",
       "\n",
       "    .dataframe thead th {\n",
       "        text-align: right;\n",
       "    }\n",
       "</style>\n",
       "<table border=\"1\" class=\"dataframe\">\n",
       "  <thead>\n",
       "    <tr style=\"text-align: right;\">\n",
       "      <th></th>\n",
       "      <th>course_id</th>\n",
       "      <th>price</th>\n",
       "      <th>num_subscribers</th>\n",
       "      <th>num_reviews</th>\n",
       "      <th>num_lectures</th>\n",
       "      <th>content_duration</th>\n",
       "    </tr>\n",
       "  </thead>\n",
       "  <tbody>\n",
       "    <tr>\n",
       "      <th>count</th>\n",
       "      <td>3.678000e+03</td>\n",
       "      <td>3678.000000</td>\n",
       "      <td>3678.000000</td>\n",
       "      <td>3678.000000</td>\n",
       "      <td>3678.000000</td>\n",
       "      <td>3678.000000</td>\n",
       "    </tr>\n",
       "    <tr>\n",
       "      <th>mean</th>\n",
       "      <td>6.759720e+05</td>\n",
       "      <td>66.049483</td>\n",
       "      <td>3197.150625</td>\n",
       "      <td>156.259108</td>\n",
       "      <td>40.108755</td>\n",
       "      <td>4.094517</td>\n",
       "    </tr>\n",
       "    <tr>\n",
       "      <th>std</th>\n",
       "      <td>3.432732e+05</td>\n",
       "      <td>61.005755</td>\n",
       "      <td>9504.117010</td>\n",
       "      <td>935.452044</td>\n",
       "      <td>50.383346</td>\n",
       "      <td>6.053840</td>\n",
       "    </tr>\n",
       "    <tr>\n",
       "      <th>min</th>\n",
       "      <td>8.324000e+03</td>\n",
       "      <td>0.000000</td>\n",
       "      <td>0.000000</td>\n",
       "      <td>0.000000</td>\n",
       "      <td>0.000000</td>\n",
       "      <td>0.000000</td>\n",
       "    </tr>\n",
       "    <tr>\n",
       "      <th>25%</th>\n",
       "      <td>4.076925e+05</td>\n",
       "      <td>20.000000</td>\n",
       "      <td>111.000000</td>\n",
       "      <td>4.000000</td>\n",
       "      <td>15.000000</td>\n",
       "      <td>1.000000</td>\n",
       "    </tr>\n",
       "    <tr>\n",
       "      <th>50%</th>\n",
       "      <td>6.879170e+05</td>\n",
       "      <td>45.000000</td>\n",
       "      <td>911.500000</td>\n",
       "      <td>18.000000</td>\n",
       "      <td>25.000000</td>\n",
       "      <td>2.000000</td>\n",
       "    </tr>\n",
       "    <tr>\n",
       "      <th>75%</th>\n",
       "      <td>9.613555e+05</td>\n",
       "      <td>95.000000</td>\n",
       "      <td>2546.000000</td>\n",
       "      <td>67.000000</td>\n",
       "      <td>45.750000</td>\n",
       "      <td>4.500000</td>\n",
       "    </tr>\n",
       "    <tr>\n",
       "      <th>max</th>\n",
       "      <td>1.282064e+06</td>\n",
       "      <td>200.000000</td>\n",
       "      <td>268923.000000</td>\n",
       "      <td>27445.000000</td>\n",
       "      <td>779.000000</td>\n",
       "      <td>78.500000</td>\n",
       "    </tr>\n",
       "  </tbody>\n",
       "</table>\n",
       "</div>"
      ],
      "text/plain": [
       "          course_id        price  num_subscribers   num_reviews  num_lectures  \\\n",
       "count  3.678000e+03  3678.000000      3678.000000   3678.000000   3678.000000   \n",
       "mean   6.759720e+05    66.049483      3197.150625    156.259108     40.108755   \n",
       "std    3.432732e+05    61.005755      9504.117010    935.452044     50.383346   \n",
       "min    8.324000e+03     0.000000         0.000000      0.000000      0.000000   \n",
       "25%    4.076925e+05    20.000000       111.000000      4.000000     15.000000   \n",
       "50%    6.879170e+05    45.000000       911.500000     18.000000     25.000000   \n",
       "75%    9.613555e+05    95.000000      2546.000000     67.000000     45.750000   \n",
       "max    1.282064e+06   200.000000    268923.000000  27445.000000    779.000000   \n",
       "\n",
       "       content_duration  \n",
       "count       3678.000000  \n",
       "mean           4.094517  \n",
       "std            6.053840  \n",
       "min            0.000000  \n",
       "25%            1.000000  \n",
       "50%            2.000000  \n",
       "75%            4.500000  \n",
       "max           78.500000  "
      ]
     },
     "execution_count": 3,
     "metadata": {},
     "output_type": "execute_result"
    }
   ],
   "source": [
    "df.describe()"
   ]
  },
  {
   "cell_type": "code",
   "execution_count": 4,
   "metadata": {},
   "outputs": [
    {
     "data": {
      "text/plain": [
       "array([ 51, 274,  36,  26,  25,  23,  38,  15,  76,  17,  19,  16,  42,\n",
       "        52,  12,  39,  40,  50,  81,  37,  41,  35,  80,  22,  28,  68,\n",
       "        61, 138, 110, 174, 103,  79, 227,  43,  46,  62,  53,  77,  20,\n",
       "        47,  33,  11, 102,  45,  32,  30,  18,  60,  54,  24, 134,   5,\n",
       "        10,  49,  14,   6, 108,  57,   9,  13,   8, 462,  29,  59, 284,\n",
       "        55,  34,  31, 544,  66,  21,  88,  44,  27,  48,  90,   7,  97,\n",
       "       128,  63, 235, 211, 100,  82, 123, 332, 272,  69, 129, 316,  70,\n",
       "       105, 176,  91,  64,  72,   4,  58, 142, 395, 194, 527,  74,  84,\n",
       "        87,  65, 460, 101,  95, 107, 113,  71, 145,  75, 444,   0, 127,\n",
       "        98, 286, 120, 130,  73, 121,  56, 158, 241,  86, 187, 111,  85,\n",
       "       150,  96,  94, 119,  78, 122, 124, 163, 131,  67, 141, 118, 166,\n",
       "       154, 185, 207, 225, 202, 115, 156,  83,  99, 196, 162,  89, 362,\n",
       "       136, 310, 104, 291, 144, 161, 224, 240, 183, 192, 309, 215, 106,\n",
       "       321, 151,  92, 126, 112,  93, 125, 348, 402, 135, 171, 212, 160,\n",
       "       133, 251, 454, 281, 221, 159, 178, 308, 197, 779, 117, 188, 132,\n",
       "       109, 195, 536, 143, 330, 140, 157, 179, 204, 491, 116, 214, 168,\n",
       "       173, 384, 172, 147, 114, 191, 329, 283, 342, 304, 246, 353, 137,\n",
       "       301, 458, 271, 239, 177, 320, 358, 152], dtype=int64)"
      ]
     },
     "execution_count": 4,
     "metadata": {},
     "output_type": "execute_result"
    }
   ],
   "source": [
    "df['num_lectures'].unique()"
   ]
  },
  {
   "cell_type": "code",
   "execution_count": 5,
   "metadata": {},
   "outputs": [
    {
     "name": "stdout",
     "output_type": "stream",
     "text": [
      "<class 'pandas.core.frame.DataFrame'>\n",
      "RangeIndex: 3678 entries, 0 to 3677\n",
      "Data columns (total 12 columns):\n",
      " #   Column               Non-Null Count  Dtype  \n",
      "---  ------               --------------  -----  \n",
      " 0   course_id            3678 non-null   int64  \n",
      " 1   course_title         3678 non-null   object \n",
      " 2   url                  3678 non-null   object \n",
      " 3   is_paid              3678 non-null   bool   \n",
      " 4   price                3678 non-null   int64  \n",
      " 5   num_subscribers      3678 non-null   int64  \n",
      " 6   num_reviews          3678 non-null   int64  \n",
      " 7   num_lectures         3678 non-null   int64  \n",
      " 8   level                3678 non-null   object \n",
      " 9   content_duration     3678 non-null   float64\n",
      " 10  published_timestamp  3678 non-null   object \n",
      " 11  subject              3678 non-null   object \n",
      "dtypes: bool(1), float64(1), int64(5), object(5)\n",
      "memory usage: 319.8+ KB\n"
     ]
    }
   ],
   "source": [
    "# cek data type\n",
    "df.info()"
   ]
  },
  {
   "cell_type": "code",
   "execution_count": 6,
   "metadata": {},
   "outputs": [
    {
     "data": {
      "text/plain": [
       "course_id              3672\n",
       "course_title           3663\n",
       "url                    3672\n",
       "is_paid                   2\n",
       "price                    38\n",
       "num_subscribers        2197\n",
       "num_reviews             511\n",
       "num_lectures            229\n",
       "level                     4\n",
       "content_duration        105\n",
       "published_timestamp    3672\n",
       "subject                   4\n",
       "dtype: int64"
      ]
     },
     "execution_count": 6,
     "metadata": {},
     "output_type": "execute_result"
    }
   ],
   "source": [
    "#cek unique value\n",
    "df.nunique()"
   ]
  },
  {
   "cell_type": "code",
   "execution_count": 7,
   "metadata": {},
   "outputs": [
    {
     "data": {
      "text/plain": [
       "course_id              0\n",
       "course_title           0\n",
       "url                    0\n",
       "is_paid                0\n",
       "price                  0\n",
       "num_subscribers        0\n",
       "num_reviews            0\n",
       "num_lectures           0\n",
       "level                  0\n",
       "content_duration       0\n",
       "published_timestamp    0\n",
       "subject                0\n",
       "dtype: int64"
      ]
     },
     "execution_count": 7,
     "metadata": {},
     "output_type": "execute_result"
    }
   ],
   "source": [
    "df.isnull().sum()"
   ]
  },
  {
   "attachments": {},
   "cell_type": "markdown",
   "metadata": {},
   "source": [
    "Tidak ditemukannya missing value"
   ]
  },
  {
   "attachments": {},
   "cell_type": "markdown",
   "metadata": {},
   "source": [
    "# Data Cleaning"
   ]
  },
  {
   "cell_type": "code",
   "execution_count": 8,
   "metadata": {},
   "outputs": [],
   "source": [
    "#menghapus kolom url karena tidak dibutuhkan saat melakukan pengolahan data\n",
    "df = df.drop('url', axis=1)"
   ]
  },
  {
   "cell_type": "code",
   "execution_count": 9,
   "metadata": {},
   "outputs": [],
   "source": [
    "df = df.drop('course_title', axis=1)"
   ]
  },
  {
   "cell_type": "code",
   "execution_count": 10,
   "metadata": {},
   "outputs": [],
   "source": [
    "# Mengubah object menjadi datetime\n",
    "df['published_timestamp']=pd.to_datetime(df['published_timestamp'])"
   ]
  },
  {
   "cell_type": "code",
   "execution_count": 11,
   "metadata": {},
   "outputs": [],
   "source": [
    "# membuat kolom baru 'year'\n",
    "df['year']=df['published_timestamp'].dt.year"
   ]
  },
  {
   "cell_type": "code",
   "execution_count": 12,
   "metadata": {},
   "outputs": [
    {
     "data": {
      "text/html": [
       "<div>\n",
       "<style scoped>\n",
       "    .dataframe tbody tr th:only-of-type {\n",
       "        vertical-align: middle;\n",
       "    }\n",
       "\n",
       "    .dataframe tbody tr th {\n",
       "        vertical-align: top;\n",
       "    }\n",
       "\n",
       "    .dataframe thead th {\n",
       "        text-align: right;\n",
       "    }\n",
       "</style>\n",
       "<table border=\"1\" class=\"dataframe\">\n",
       "  <thead>\n",
       "    <tr style=\"text-align: right;\">\n",
       "      <th></th>\n",
       "      <th>course_id</th>\n",
       "      <th>is_paid</th>\n",
       "      <th>price</th>\n",
       "      <th>num_subscribers</th>\n",
       "      <th>num_reviews</th>\n",
       "      <th>num_lectures</th>\n",
       "      <th>level</th>\n",
       "      <th>content_duration</th>\n",
       "      <th>published_timestamp</th>\n",
       "      <th>subject</th>\n",
       "      <th>year</th>\n",
       "    </tr>\n",
       "  </thead>\n",
       "  <tbody>\n",
       "    <tr>\n",
       "      <th>0</th>\n",
       "      <td>1070968</td>\n",
       "      <td>True</td>\n",
       "      <td>200</td>\n",
       "      <td>2147</td>\n",
       "      <td>23</td>\n",
       "      <td>51</td>\n",
       "      <td>All Levels</td>\n",
       "      <td>90</td>\n",
       "      <td>2017-01-18 20:58:58+00:00</td>\n",
       "      <td>Business Finance</td>\n",
       "      <td>2017</td>\n",
       "    </tr>\n",
       "    <tr>\n",
       "      <th>1</th>\n",
       "      <td>1113822</td>\n",
       "      <td>True</td>\n",
       "      <td>75</td>\n",
       "      <td>2792</td>\n",
       "      <td>923</td>\n",
       "      <td>274</td>\n",
       "      <td>All Levels</td>\n",
       "      <td>2340</td>\n",
       "      <td>2017-03-09 16:34:20+00:00</td>\n",
       "      <td>Business Finance</td>\n",
       "      <td>2017</td>\n",
       "    </tr>\n",
       "    <tr>\n",
       "      <th>2</th>\n",
       "      <td>1006314</td>\n",
       "      <td>True</td>\n",
       "      <td>45</td>\n",
       "      <td>2174</td>\n",
       "      <td>74</td>\n",
       "      <td>51</td>\n",
       "      <td>Intermediate Level</td>\n",
       "      <td>150</td>\n",
       "      <td>2016-12-19 19:26:30+00:00</td>\n",
       "      <td>Business Finance</td>\n",
       "      <td>2016</td>\n",
       "    </tr>\n",
       "    <tr>\n",
       "      <th>3</th>\n",
       "      <td>1210588</td>\n",
       "      <td>True</td>\n",
       "      <td>95</td>\n",
       "      <td>2451</td>\n",
       "      <td>11</td>\n",
       "      <td>36</td>\n",
       "      <td>All Levels</td>\n",
       "      <td>180</td>\n",
       "      <td>2017-05-30 20:07:24+00:00</td>\n",
       "      <td>Business Finance</td>\n",
       "      <td>2017</td>\n",
       "    </tr>\n",
       "    <tr>\n",
       "      <th>4</th>\n",
       "      <td>1011058</td>\n",
       "      <td>True</td>\n",
       "      <td>200</td>\n",
       "      <td>1276</td>\n",
       "      <td>45</td>\n",
       "      <td>26</td>\n",
       "      <td>Intermediate Level</td>\n",
       "      <td>120</td>\n",
       "      <td>2016-12-13 14:57:18+00:00</td>\n",
       "      <td>Business Finance</td>\n",
       "      <td>2016</td>\n",
       "    </tr>\n",
       "    <tr>\n",
       "      <th>...</th>\n",
       "      <td>...</td>\n",
       "      <td>...</td>\n",
       "      <td>...</td>\n",
       "      <td>...</td>\n",
       "      <td>...</td>\n",
       "      <td>...</td>\n",
       "      <td>...</td>\n",
       "      <td>...</td>\n",
       "      <td>...</td>\n",
       "      <td>...</td>\n",
       "      <td>...</td>\n",
       "    </tr>\n",
       "    <tr>\n",
       "      <th>3673</th>\n",
       "      <td>775618</td>\n",
       "      <td>True</td>\n",
       "      <td>100</td>\n",
       "      <td>1040</td>\n",
       "      <td>14</td>\n",
       "      <td>21</td>\n",
       "      <td>All Levels</td>\n",
       "      <td>120</td>\n",
       "      <td>2016-06-14 17:36:46+00:00</td>\n",
       "      <td>Web Development</td>\n",
       "      <td>2016</td>\n",
       "    </tr>\n",
       "    <tr>\n",
       "      <th>3674</th>\n",
       "      <td>1088178</td>\n",
       "      <td>True</td>\n",
       "      <td>25</td>\n",
       "      <td>306</td>\n",
       "      <td>3</td>\n",
       "      <td>42</td>\n",
       "      <td>Beginner Level</td>\n",
       "      <td>210</td>\n",
       "      <td>2017-03-10 22:24:30+00:00</td>\n",
       "      <td>Web Development</td>\n",
       "      <td>2017</td>\n",
       "    </tr>\n",
       "    <tr>\n",
       "      <th>3675</th>\n",
       "      <td>635248</td>\n",
       "      <td>True</td>\n",
       "      <td>40</td>\n",
       "      <td>513</td>\n",
       "      <td>169</td>\n",
       "      <td>48</td>\n",
       "      <td>All Levels</td>\n",
       "      <td>210</td>\n",
       "      <td>2015-12-30 16:41:42+00:00</td>\n",
       "      <td>Web Development</td>\n",
       "      <td>2015</td>\n",
       "    </tr>\n",
       "    <tr>\n",
       "      <th>3676</th>\n",
       "      <td>905096</td>\n",
       "      <td>True</td>\n",
       "      <td>50</td>\n",
       "      <td>300</td>\n",
       "      <td>31</td>\n",
       "      <td>38</td>\n",
       "      <td>All Levels</td>\n",
       "      <td>180</td>\n",
       "      <td>2016-08-11 19:06:15+00:00</td>\n",
       "      <td>Web Development</td>\n",
       "      <td>2016</td>\n",
       "    </tr>\n",
       "    <tr>\n",
       "      <th>3677</th>\n",
       "      <td>297602</td>\n",
       "      <td>True</td>\n",
       "      <td>45</td>\n",
       "      <td>901</td>\n",
       "      <td>36</td>\n",
       "      <td>20</td>\n",
       "      <td>Beginner Level</td>\n",
       "      <td>120</td>\n",
       "      <td>2014-09-28 19:51:11+00:00</td>\n",
       "      <td>Web Development</td>\n",
       "      <td>2014</td>\n",
       "    </tr>\n",
       "  </tbody>\n",
       "</table>\n",
       "<p>3678 rows × 11 columns</p>\n",
       "</div>"
      ],
      "text/plain": [
       "      course_id  is_paid  price  num_subscribers  num_reviews  num_lectures  \\\n",
       "0       1070968     True    200             2147           23            51   \n",
       "1       1113822     True     75             2792          923           274   \n",
       "2       1006314     True     45             2174           74            51   \n",
       "3       1210588     True     95             2451           11            36   \n",
       "4       1011058     True    200             1276           45            26   \n",
       "...         ...      ...    ...              ...          ...           ...   \n",
       "3673     775618     True    100             1040           14            21   \n",
       "3674    1088178     True     25              306            3            42   \n",
       "3675     635248     True     40              513          169            48   \n",
       "3676     905096     True     50              300           31            38   \n",
       "3677     297602     True     45              901           36            20   \n",
       "\n",
       "                   level  content_duration       published_timestamp  \\\n",
       "0             All Levels                90 2017-01-18 20:58:58+00:00   \n",
       "1             All Levels              2340 2017-03-09 16:34:20+00:00   \n",
       "2     Intermediate Level               150 2016-12-19 19:26:30+00:00   \n",
       "3             All Levels               180 2017-05-30 20:07:24+00:00   \n",
       "4     Intermediate Level               120 2016-12-13 14:57:18+00:00   \n",
       "...                  ...               ...                       ...   \n",
       "3673          All Levels               120 2016-06-14 17:36:46+00:00   \n",
       "3674      Beginner Level               210 2017-03-10 22:24:30+00:00   \n",
       "3675          All Levels               210 2015-12-30 16:41:42+00:00   \n",
       "3676          All Levels               180 2016-08-11 19:06:15+00:00   \n",
       "3677      Beginner Level               120 2014-09-28 19:51:11+00:00   \n",
       "\n",
       "               subject  year  \n",
       "0     Business Finance  2017  \n",
       "1     Business Finance  2017  \n",
       "2     Business Finance  2016  \n",
       "3     Business Finance  2017  \n",
       "4     Business Finance  2016  \n",
       "...                ...   ...  \n",
       "3673   Web Development  2016  \n",
       "3674   Web Development  2017  \n",
       "3675   Web Development  2015  \n",
       "3676   Web Development  2016  \n",
       "3677   Web Development  2014  \n",
       "\n",
       "[3678 rows x 11 columns]"
      ]
     },
     "execution_count": 12,
     "metadata": {},
     "output_type": "execute_result"
    }
   ],
   "source": [
    "# Mengubah content duration menjadi menit\n",
    "df['content_duration']=(df['content_duration']*60).astype(int)\n",
    "df"
   ]
  },
  {
   "attachments": {},
   "cell_type": "markdown",
   "metadata": {},
   "source": [
    "# Analisis dan Perhitungan"
   ]
  },
  {
   "cell_type": "code",
   "execution_count": 13,
   "metadata": {},
   "outputs": [
    {
     "name": "stdout",
     "output_type": "stream",
     "text": [
      "['level', 'subject']\n",
      "['course_id', 'price', 'num_subscribers', 'num_reviews', 'num_lectures', 'content_duration', 'year']\n"
     ]
    }
   ],
   "source": [
    "#buat list data bertipe object dan number\n",
    "obj_cols= list(df.select_dtypes('object'))\n",
    "num_cols= list(df.select_dtypes('number'))\n",
    "print(obj_cols)\n",
    "print(num_cols)"
   ]
  },
  {
   "attachments": {},
   "cell_type": "markdown",
   "metadata": {},
   "source": [
    "## Statistika Deskriptif "
   ]
  },
  {
   "cell_type": "code",
   "execution_count": 14,
   "metadata": {},
   "outputs": [
    {
     "data": {
      "text/html": [
       "<div>\n",
       "<style scoped>\n",
       "    .dataframe tbody tr th:only-of-type {\n",
       "        vertical-align: middle;\n",
       "    }\n",
       "\n",
       "    .dataframe tbody tr th {\n",
       "        vertical-align: top;\n",
       "    }\n",
       "\n",
       "    .dataframe thead th {\n",
       "        text-align: right;\n",
       "    }\n",
       "</style>\n",
       "<table border=\"1\" class=\"dataframe\">\n",
       "  <thead>\n",
       "    <tr style=\"text-align: right;\">\n",
       "      <th></th>\n",
       "      <th>course_id</th>\n",
       "      <th>is_paid</th>\n",
       "      <th>price</th>\n",
       "      <th>num_subscribers</th>\n",
       "      <th>num_reviews</th>\n",
       "      <th>num_lectures</th>\n",
       "      <th>level</th>\n",
       "      <th>content_duration</th>\n",
       "      <th>published_timestamp</th>\n",
       "      <th>subject</th>\n",
       "      <th>year</th>\n",
       "    </tr>\n",
       "  </thead>\n",
       "  <tbody>\n",
       "    <tr>\n",
       "      <th>0</th>\n",
       "      <td>1070968</td>\n",
       "      <td>True</td>\n",
       "      <td>200</td>\n",
       "      <td>2147</td>\n",
       "      <td>23</td>\n",
       "      <td>51</td>\n",
       "      <td>All Levels</td>\n",
       "      <td>90</td>\n",
       "      <td>2017-01-18 20:58:58+00:00</td>\n",
       "      <td>Business Finance</td>\n",
       "      <td>2017</td>\n",
       "    </tr>\n",
       "    <tr>\n",
       "      <th>1</th>\n",
       "      <td>1113822</td>\n",
       "      <td>True</td>\n",
       "      <td>75</td>\n",
       "      <td>2792</td>\n",
       "      <td>923</td>\n",
       "      <td>274</td>\n",
       "      <td>All Levels</td>\n",
       "      <td>2340</td>\n",
       "      <td>2017-03-09 16:34:20+00:00</td>\n",
       "      <td>Business Finance</td>\n",
       "      <td>2017</td>\n",
       "    </tr>\n",
       "    <tr>\n",
       "      <th>2</th>\n",
       "      <td>1006314</td>\n",
       "      <td>True</td>\n",
       "      <td>45</td>\n",
       "      <td>2174</td>\n",
       "      <td>74</td>\n",
       "      <td>51</td>\n",
       "      <td>Intermediate Level</td>\n",
       "      <td>150</td>\n",
       "      <td>2016-12-19 19:26:30+00:00</td>\n",
       "      <td>Business Finance</td>\n",
       "      <td>2016</td>\n",
       "    </tr>\n",
       "    <tr>\n",
       "      <th>3</th>\n",
       "      <td>1210588</td>\n",
       "      <td>True</td>\n",
       "      <td>95</td>\n",
       "      <td>2451</td>\n",
       "      <td>11</td>\n",
       "      <td>36</td>\n",
       "      <td>All Levels</td>\n",
       "      <td>180</td>\n",
       "      <td>2017-05-30 20:07:24+00:00</td>\n",
       "      <td>Business Finance</td>\n",
       "      <td>2017</td>\n",
       "    </tr>\n",
       "    <tr>\n",
       "      <th>4</th>\n",
       "      <td>1011058</td>\n",
       "      <td>True</td>\n",
       "      <td>200</td>\n",
       "      <td>1276</td>\n",
       "      <td>45</td>\n",
       "      <td>26</td>\n",
       "      <td>Intermediate Level</td>\n",
       "      <td>120</td>\n",
       "      <td>2016-12-13 14:57:18+00:00</td>\n",
       "      <td>Business Finance</td>\n",
       "      <td>2016</td>\n",
       "    </tr>\n",
       "    <tr>\n",
       "      <th>5</th>\n",
       "      <td>192870</td>\n",
       "      <td>True</td>\n",
       "      <td>150</td>\n",
       "      <td>9221</td>\n",
       "      <td>138</td>\n",
       "      <td>25</td>\n",
       "      <td>All Levels</td>\n",
       "      <td>180</td>\n",
       "      <td>2014-05-02 15:13:30+00:00</td>\n",
       "      <td>Business Finance</td>\n",
       "      <td>2014</td>\n",
       "    </tr>\n",
       "    <tr>\n",
       "      <th>6</th>\n",
       "      <td>739964</td>\n",
       "      <td>True</td>\n",
       "      <td>65</td>\n",
       "      <td>1540</td>\n",
       "      <td>178</td>\n",
       "      <td>26</td>\n",
       "      <td>Beginner Level</td>\n",
       "      <td>60</td>\n",
       "      <td>2016-02-21 18:23:12+00:00</td>\n",
       "      <td>Business Finance</td>\n",
       "      <td>2016</td>\n",
       "    </tr>\n",
       "    <tr>\n",
       "      <th>7</th>\n",
       "      <td>403100</td>\n",
       "      <td>True</td>\n",
       "      <td>95</td>\n",
       "      <td>2917</td>\n",
       "      <td>148</td>\n",
       "      <td>23</td>\n",
       "      <td>All Levels</td>\n",
       "      <td>150</td>\n",
       "      <td>2015-01-30 22:13:03+00:00</td>\n",
       "      <td>Business Finance</td>\n",
       "      <td>2015</td>\n",
       "    </tr>\n",
       "    <tr>\n",
       "      <th>8</th>\n",
       "      <td>476268</td>\n",
       "      <td>True</td>\n",
       "      <td>195</td>\n",
       "      <td>5172</td>\n",
       "      <td>34</td>\n",
       "      <td>38</td>\n",
       "      <td>Expert Level</td>\n",
       "      <td>150</td>\n",
       "      <td>2015-05-28 00:14:03+00:00</td>\n",
       "      <td>Business Finance</td>\n",
       "      <td>2015</td>\n",
       "    </tr>\n",
       "    <tr>\n",
       "      <th>9</th>\n",
       "      <td>1167710</td>\n",
       "      <td>True</td>\n",
       "      <td>200</td>\n",
       "      <td>827</td>\n",
       "      <td>14</td>\n",
       "      <td>15</td>\n",
       "      <td>All Levels</td>\n",
       "      <td>60</td>\n",
       "      <td>2017-04-18 18:13:32+00:00</td>\n",
       "      <td>Business Finance</td>\n",
       "      <td>2017</td>\n",
       "    </tr>\n",
       "  </tbody>\n",
       "</table>\n",
       "</div>"
      ],
      "text/plain": [
       "   course_id  is_paid  price  num_subscribers  num_reviews  num_lectures  \\\n",
       "0    1070968     True    200             2147           23            51   \n",
       "1    1113822     True     75             2792          923           274   \n",
       "2    1006314     True     45             2174           74            51   \n",
       "3    1210588     True     95             2451           11            36   \n",
       "4    1011058     True    200             1276           45            26   \n",
       "5     192870     True    150             9221          138            25   \n",
       "6     739964     True     65             1540          178            26   \n",
       "7     403100     True     95             2917          148            23   \n",
       "8     476268     True    195             5172           34            38   \n",
       "9    1167710     True    200              827           14            15   \n",
       "\n",
       "                level  content_duration       published_timestamp  \\\n",
       "0          All Levels                90 2017-01-18 20:58:58+00:00   \n",
       "1          All Levels              2340 2017-03-09 16:34:20+00:00   \n",
       "2  Intermediate Level               150 2016-12-19 19:26:30+00:00   \n",
       "3          All Levels               180 2017-05-30 20:07:24+00:00   \n",
       "4  Intermediate Level               120 2016-12-13 14:57:18+00:00   \n",
       "5          All Levels               180 2014-05-02 15:13:30+00:00   \n",
       "6      Beginner Level                60 2016-02-21 18:23:12+00:00   \n",
       "7          All Levels               150 2015-01-30 22:13:03+00:00   \n",
       "8        Expert Level               150 2015-05-28 00:14:03+00:00   \n",
       "9          All Levels                60 2017-04-18 18:13:32+00:00   \n",
       "\n",
       "            subject  year  \n",
       "0  Business Finance  2017  \n",
       "1  Business Finance  2017  \n",
       "2  Business Finance  2016  \n",
       "3  Business Finance  2017  \n",
       "4  Business Finance  2016  \n",
       "5  Business Finance  2014  \n",
       "6  Business Finance  2016  \n",
       "7  Business Finance  2015  \n",
       "8  Business Finance  2015  \n",
       "9  Business Finance  2017  "
      ]
     },
     "execution_count": 14,
     "metadata": {},
     "output_type": "execute_result"
    }
   ],
   "source": [
    "## Filtering paid content only\n",
    "paid_course = df[df['is_paid']==True]\n",
    "paid_course.head(10)"
   ]
  },
  {
   "attachments": {},
   "cell_type": "markdown",
   "metadata": {},
   "source": [
    "### Central Tendency \n",
    "Menganalisa persebaran data pada numerikal data untuk menentukan metode yang akan digunakan saat melakukan pengujian statistik"
   ]
  },
  {
   "cell_type": "code",
   "execution_count": 15,
   "metadata": {},
   "outputs": [
    {
     "data": {
      "text/html": [
       "<div>\n",
       "<style scoped>\n",
       "    .dataframe tbody tr th:only-of-type {\n",
       "        vertical-align: middle;\n",
       "    }\n",
       "\n",
       "    .dataframe tbody tr th {\n",
       "        vertical-align: top;\n",
       "    }\n",
       "\n",
       "    .dataframe thead th {\n",
       "        text-align: right;\n",
       "    }\n",
       "</style>\n",
       "<table border=\"1\" class=\"dataframe\">\n",
       "  <thead>\n",
       "    <tr style=\"text-align: right;\">\n",
       "      <th></th>\n",
       "      <th>course_id</th>\n",
       "      <th>price</th>\n",
       "      <th>num_subscribers</th>\n",
       "      <th>num_reviews</th>\n",
       "      <th>num_lectures</th>\n",
       "      <th>content_duration</th>\n",
       "      <th>year</th>\n",
       "    </tr>\n",
       "  </thead>\n",
       "  <tbody>\n",
       "    <tr>\n",
       "      <th>count</th>\n",
       "      <td>3.368000e+03</td>\n",
       "      <td>3368.000000</td>\n",
       "      <td>3368.000000</td>\n",
       "      <td>3368.000000</td>\n",
       "      <td>3368.000000</td>\n",
       "      <td>3368.000000</td>\n",
       "      <td>3368.000000</td>\n",
       "    </tr>\n",
       "    <tr>\n",
       "      <th>mean</th>\n",
       "      <td>6.745476e+05</td>\n",
       "      <td>72.128860</td>\n",
       "      <td>2429.808492</td>\n",
       "      <td>131.437945</td>\n",
       "      <td>41.829276</td>\n",
       "      <td>256.069181</td>\n",
       "      <td>2015.424881</td>\n",
       "    </tr>\n",
       "    <tr>\n",
       "      <th>std</th>\n",
       "      <td>3.403628e+05</td>\n",
       "      <td>60.214043</td>\n",
       "      <td>6360.316147</td>\n",
       "      <td>926.066894</td>\n",
       "      <td>52.021725</td>\n",
       "      <td>374.984788</td>\n",
       "      <td>1.178588</td>\n",
       "    </tr>\n",
       "    <tr>\n",
       "      <th>min</th>\n",
       "      <td>8.324000e+03</td>\n",
       "      <td>20.000000</td>\n",
       "      <td>0.000000</td>\n",
       "      <td>0.000000</td>\n",
       "      <td>0.000000</td>\n",
       "      <td>0.000000</td>\n",
       "      <td>2011.000000</td>\n",
       "    </tr>\n",
       "    <tr>\n",
       "      <th>25%</th>\n",
       "      <td>4.128620e+05</td>\n",
       "      <td>25.000000</td>\n",
       "      <td>89.000000</td>\n",
       "      <td>4.000000</td>\n",
       "      <td>15.000000</td>\n",
       "      <td>90.000000</td>\n",
       "      <td>2015.000000</td>\n",
       "    </tr>\n",
       "    <tr>\n",
       "      <th>50%</th>\n",
       "      <td>6.816030e+05</td>\n",
       "      <td>50.000000</td>\n",
       "      <td>734.500000</td>\n",
       "      <td>15.000000</td>\n",
       "      <td>26.000000</td>\n",
       "      <td>150.000000</td>\n",
       "      <td>2016.000000</td>\n",
       "    </tr>\n",
       "    <tr>\n",
       "      <th>75%</th>\n",
       "      <td>9.570065e+05</td>\n",
       "      <td>100.000000</td>\n",
       "      <td>2054.750000</td>\n",
       "      <td>53.000000</td>\n",
       "      <td>48.000000</td>\n",
       "      <td>270.000000</td>\n",
       "      <td>2016.000000</td>\n",
       "    </tr>\n",
       "    <tr>\n",
       "      <th>max</th>\n",
       "      <td>1.282064e+06</td>\n",
       "      <td>200.000000</td>\n",
       "      <td>121584.000000</td>\n",
       "      <td>27445.000000</td>\n",
       "      <td>779.000000</td>\n",
       "      <td>4710.000000</td>\n",
       "      <td>2017.000000</td>\n",
       "    </tr>\n",
       "  </tbody>\n",
       "</table>\n",
       "</div>"
      ],
      "text/plain": [
       "          course_id        price  num_subscribers   num_reviews  num_lectures  \\\n",
       "count  3.368000e+03  3368.000000      3368.000000   3368.000000   3368.000000   \n",
       "mean   6.745476e+05    72.128860      2429.808492    131.437945     41.829276   \n",
       "std    3.403628e+05    60.214043      6360.316147    926.066894     52.021725   \n",
       "min    8.324000e+03    20.000000         0.000000      0.000000      0.000000   \n",
       "25%    4.128620e+05    25.000000        89.000000      4.000000     15.000000   \n",
       "50%    6.816030e+05    50.000000       734.500000     15.000000     26.000000   \n",
       "75%    9.570065e+05   100.000000      2054.750000     53.000000     48.000000   \n",
       "max    1.282064e+06   200.000000    121584.000000  27445.000000    779.000000   \n",
       "\n",
       "       content_duration         year  \n",
       "count       3368.000000  3368.000000  \n",
       "mean         256.069181  2015.424881  \n",
       "std          374.984788     1.178588  \n",
       "min            0.000000  2011.000000  \n",
       "25%           90.000000  2015.000000  \n",
       "50%          150.000000  2016.000000  \n",
       "75%          270.000000  2016.000000  \n",
       "max         4710.000000  2017.000000  "
      ]
     },
     "execution_count": 15,
     "metadata": {},
     "output_type": "execute_result"
    }
   ],
   "source": [
    "paid_course.describe()"
   ]
  },
  {
   "attachments": {},
   "cell_type": "markdown",
   "metadata": {},
   "source": [
    "positive skew= mode < median < mean\n",
    "negative skew= mean < median < mode\n",
    "\n",
    "Berdasarkan informasi diatas yang merupakan positive skew adalah: num_subscribers, num_lectures, content_duration, num_reviews\n"
   ]
  },
  {
   "attachments": {},
   "cell_type": "markdown",
   "metadata": {},
   "source": [
    "#### Cek Data distribution menggunakan grafik"
   ]
  },
  {
   "cell_type": "code",
   "execution_count": 16,
   "metadata": {},
   "outputs": [
    {
     "data": {
      "text/plain": [
       "<Axes: xlabel='price', ylabel='Count'>"
      ]
     },
     "execution_count": 16,
     "metadata": {},
     "output_type": "execute_result"
    },
    {
     "data": {
      "image/png": "[encoded data removed]",
      "text/plain": [
       "<Figure size 640x480 with 1 Axes>"
      ]
     },
     "metadata": {},
     "output_type": "display_data"
    }
   ],
   "source": [
    "sns.histplot(paid_course['price'], bins=25, kde=True)"
   ]
  },
  {
   "cell_type": "code",
   "execution_count": 17,
   "metadata": {},
   "outputs": [
    {
     "data": {
      "text/plain": [
       "1.1340100519404568"
      ]
     },
     "execution_count": 17,
     "metadata": {},
     "output_type": "execute_result"
    }
   ],
   "source": [
    "paid_course['price'].skew()"
   ]
  },
  {
   "attachments": {},
   "cell_type": "markdown",
   "metadata": {},
   "source": [
    "Data diatas tidak terdistribusi dengan normal"
   ]
  },
  {
   "cell_type": "code",
   "execution_count": 18,
   "metadata": {},
   "outputs": [
    {
     "data": {
      "text/plain": [
       "<Axes: xlabel='num_subscribers', ylabel='Count'>"
      ]
     },
     "execution_count": 18,
     "metadata": {},
     "output_type": "execute_result"
    },
    {
     "data": {
      "image/png": "[encoded data removed]",
      "text/plain": [
       "<Figure size 640x480 with 1 Axes>"
      ]
     },
     "metadata": {},
     "output_type": "display_data"
    }
   ],
   "source": [
    "sns.histplot(paid_course['num_subscribers'], bins=25, kde=True)"
   ]
  },
  {
   "cell_type": "code",
   "execution_count": 19,
   "metadata": {},
   "outputs": [
    {
     "data": {
      "text/plain": [
       "8.430874239824515"
      ]
     },
     "execution_count": 19,
     "metadata": {},
     "output_type": "execute_result"
    }
   ],
   "source": [
    "paid_course['num_subscribers'].skew()"
   ]
  },
  {
   "attachments": {},
   "cell_type": "markdown",
   "metadata": {},
   "source": [
    "Data diatas terdistribusi dengan normal atau bisa disebut positive skew"
   ]
  },
  {
   "cell_type": "code",
   "execution_count": 20,
   "metadata": {},
   "outputs": [
    {
     "data": {
      "text/plain": [
       "<Axes: xlabel='num_reviews', ylabel='Count'>"
      ]
     },
     "execution_count": 20,
     "metadata": {},
     "output_type": "execute_result"
    },
    {
     "data": {
      "image/png": "[encoded data removed]",
      "text/plain": [
       "<Figure size 640x480 with 1 Axes>"
      ]
     },
     "metadata": {},
     "output_type": "display_data"
    }
   ],
   "source": [
    "sns.histplot(paid_course['num_reviews'], bins=25, kde=True)"
   ]
  },
  {
   "attachments": {},
   "cell_type": "markdown",
   "metadata": {},
   "source": [
    "Data diatas terdistribusi dengan normal atau bisa disebut positive skew"
   ]
  },
  {
   "cell_type": "code",
   "execution_count": 21,
   "metadata": {},
   "outputs": [
    {
     "data": {
      "text/plain": [
       "<Axes: xlabel='num_lectures', ylabel='Count'>"
      ]
     },
     "execution_count": 21,
     "metadata": {},
     "output_type": "execute_result"
    },
    {
     "data": {
      "image/png": "[encoded data removed]",
      "text/plain": [
       "<Figure size 640x480 with 1 Axes>"
      ]
     },
     "metadata": {},
     "output_type": "display_data"
    }
   ],
   "source": [
    "sns.histplot(paid_course['num_lectures'], bins=25, kde=True)"
   ]
  },
  {
   "attachments": {},
   "cell_type": "markdown",
   "metadata": {},
   "source": [
    "Data diatas terdistribusi dengan normal atau bisa disebut positive skew"
   ]
  },
  {
   "cell_type": "code",
   "execution_count": 22,
   "metadata": {},
   "outputs": [
    {
     "data": {
      "text/plain": [
       "<Axes: xlabel='content_duration', ylabel='Count'>"
      ]
     },
     "execution_count": 22,
     "metadata": {},
     "output_type": "execute_result"
    },
    {
     "data": {
      "image/png": "[encoded data removed]",
      "text/plain": [
       "<Figure size 640x480 with 1 Axes>"
      ]
     },
     "metadata": {},
     "output_type": "display_data"
    }
   ],
   "source": [
    "sns.histplot(paid_course['content_duration'], bins=25, kde=True)"
   ]
  },
  {
   "cell_type": "code",
   "execution_count": 23,
   "metadata": {},
   "outputs": [
    {
     "data": {
      "text/plain": [
       "5.291340856018148"
      ]
     },
     "execution_count": 23,
     "metadata": {},
     "output_type": "execute_result"
    }
   ],
   "source": [
    "paid_course['content_duration'].skew()"
   ]
  },
  {
   "attachments": {},
   "cell_type": "markdown",
   "metadata": {},
   "source": [
    "Data diatas tidak terdistribusi dengan normal atau bisa disebut positive skew"
   ]
  },
  {
   "attachments": {},
   "cell_type": "markdown",
   "metadata": {},
   "source": [
    "Kesimpulan: <br>\n",
    "Berdasarkan grafik diatas, semua numerikal data bukan merupakan distribusi normal, maka dari itu untuk tahap selanjutnya digunakan statistika inferensial non parametric untuk menganalisa data lebih lanjut."
   ]
  },
  {
   "attachments": {},
   "cell_type": "markdown",
   "metadata": {},
   "source": [
    "## Statistik Inferensial\n",
    "Proses analisa udemy course numerikal data menggunakan non parametric test karena pendistribusian data nya tidak normal.  "
   ]
  },
  {
   "attachments": {},
   "cell_type": "markdown",
   "metadata": {},
   "source": [
    "### Spearman Test\n",
    "Metode ini diperlukan untuk mengukur keeratan hubungan antara dua variabel."
   ]
  },
  {
   "attachments": {},
   "cell_type": "markdown",
   "metadata": {},
   "source": [
    "#### Menganalisa korelasi antara content durasi dan jumlah subscriber"
   ]
  },
  {
   "attachments": {},
   "cell_type": "markdown",
   "metadata": {},
   "source": [
    "Melakukan Uji Hipotesis menggunakan spearman test karena data tidak terdistribusi normal <br>\n",
    "H0 = content_duration tidak berpengaruh pada jumlah subscribers <br>\n",
    "H1 = content_duration berpengaruh pada jumlah subscribers"
   ]
  },
  {
   "cell_type": "code",
   "execution_count": 43,
   "metadata": {},
   "outputs": [
    {
     "name": "stdout",
     "output_type": "stream",
     "text": [
      "Koefisien korelasi Spearman: 0.23453765654484265\n",
      "p-value: 2.579671086126573e-43\n",
      "Tolak hipotesis nol.\n",
      "Ada bukti korelasi yang signifikan antara variabel.\n"
     ]
    }
   ],
   "source": [
    "#sample data\n",
    "x = paid_course['content_duration']\n",
    "y = paid_course['num_subscribers']\n",
    " \n",
    "# calculate Spearman's correlation coefficient and p-value\n",
    "corr, pval = spearmanr(x, y)\n",
    " \n",
    "# print the result\n",
    "print(\"Koefisien korelasi Spearman:\", corr)\n",
    "print(\"p-value:\", pval)\n",
    "\n",
    "if pval <= 0.05:\n",
    "    print(\"Tolak hipotesis nol.\")\n",
    "    print(\"Ada bukti korelasi yang signifikan antara variabel.\")\n",
    "else:\n",
    "    print(\"Gagal menolak hipotesis nol.\")\n",
    "    print(\"Tidak cukup bukti untuk menyimpulkan korelasi yang signifikan.\")"
   ]
  },
  {
   "attachments": {},
   "cell_type": "markdown",
   "metadata": {},
   "source": [
    "Kesimpulan:<br>\n",
    "Content durasi dan jumlah subscriber memiliki tingkat korelasi sebesar 23%. Di sini, 0,23 menunjukkan hubungan yang relatif lemah, tetapi positif, menunjukkan bahwa ketika satu variabel meningkat, demikian pula yang lain, meskipun pengaruhnya tidak terlalu kuat, tetapi p-value <= 0,05 yang dimana terbuktinya korelasi antara Content durasi ddengan jumlah subscriber"
   ]
  },
  {
   "attachments": {},
   "cell_type": "markdown",
   "metadata": {},
   "source": [
    "#### Menganalisa Korelasi harga terhadap jumlah subscriber"
   ]
  },
  {
   "attachments": {},
   "cell_type": "markdown",
   "metadata": {},
   "source": [
    "Melakukan Uji Hipotesis menggunakan spearman test karena data tidak terdistribusi normal <br>\n",
    "H0 = harga course tidak berpengaruh pada jumlah subscribers <br>\n",
    "H1 = harga course berpengaruh pada jumlah subscribers"
   ]
  },
  {
   "cell_type": "code",
   "execution_count": 44,
   "metadata": {},
   "outputs": [
    {
     "name": "stdout",
     "output_type": "stream",
     "text": [
      "Koefisien korelasi Spearman: 0.26695483921842167\n",
      "p-value: 4.701738860681964e-56\n",
      "Tolak hipotesis nol.\n",
      "Ada bukti korelasi yang signifikan antara variabel.\n"
     ]
    }
   ],
   "source": [
    "#sample data\n",
    "x = paid_course['price']\n",
    "y = paid_course['num_subscribers']\n",
    " \n",
    "# calculate Spearman's correlation coefficient and p-value\n",
    "corr, pval = spearmanr(x, y)\n",
    " \n",
    "# print the result\n",
    "print(\"Koefisien korelasi Spearman:\", corr)\n",
    "print(\"p-value:\", pval)\n",
    "\n",
    "if pval <= 0.05:\n",
    "    print(\"Tolak hipotesis nol.\")\n",
    "    print(\"Ada bukti korelasi yang signifikan antara variabel.\")\n",
    "else:\n",
    "    print(\"Gagal menolak hipotesis nol.\")\n",
    "    print(\"Tidak cukup bukti untuk menyimpulkan korelasi yang signifikan.\")"
   ]
  },
  {
   "attachments": {},
   "cell_type": "markdown",
   "metadata": {},
   "source": [
    "Harga course dan jumlah subscriber memiliki tingkat korelasi sebesar 26%. Di sini, 0,26 juga menunjukkan hubungan yang relatif lemah, tetapi positif, menunjukkan bahwa ketika satu variabel meningkat, demikian pula yang lain, meskipun pengaruhnya tidak terlalu kuat. "
   ]
  },
  {
   "attachments": {},
   "cell_type": "markdown",
   "metadata": {},
   "source": [
    "#### Menganalisa pengaruh jumlah reviews dan jumlah subscribers"
   ]
  },
  {
   "attachments": {},
   "cell_type": "markdown",
   "metadata": {},
   "source": [
    "Melakukan Uji Hipotesis menggunakan spearman test karena data tidak terdistribusi normal <br>\n",
    "H0 = jumlah review tidak berpengaruh pada jumlah subscribers <br>\n",
    "H1 = jumlah review berpengaruh pada jumlah subscribers"
   ]
  },
  {
   "cell_type": "code",
   "execution_count": 45,
   "metadata": {},
   "outputs": [
    {
     "name": "stdout",
     "output_type": "stream",
     "text": [
      "Koefisien korelasi Spearman: 0.7637675913716434\n",
      "p-value: 0.0\n",
      "Tolak hipotesis nol.\n",
      "Ada bukti korelasi yang signifikan antara variabel.\n"
     ]
    }
   ],
   "source": [
    "#sample data\n",
    "x = paid_course['num_reviews']\n",
    "y = paid_course['num_subscribers']\n",
    " \n",
    "# calculate Spearman's correlation coefficient and p-value\n",
    "corr, pval = spearmanr(x, y)\n",
    " \n",
    "# print the result\n",
    "print(\"Koefisien korelasi Spearman:\", corr)\n",
    "print(\"p-value:\", pval)\n",
    "\n",
    "if pval <= 0.05:\n",
    "    print(\"Tolak hipotesis nol.\")\n",
    "    print(\"Ada bukti korelasi yang signifikan antara variabel.\")\n",
    "else:\n",
    "    print(\"Gagal menolak hipotesis nol.\")\n",
    "    print(\"Tidak cukup bukti untuk menyimpulkan korelasi yang signifikan.\")"
   ]
  },
  {
   "attachments": {},
   "cell_type": "markdown",
   "metadata": {},
   "source": [
    "Harga course dan jumlah subscriber memiliki tingkat korelasi sebesar 76%. yang dimana 76% menunjukkan hubungan yang relatif kuat. ini menunjukkan bahwa ketika satu variabel meningkat, demikian pula yang lain. "
   ]
  },
  {
   "attachments": {},
   "cell_type": "markdown",
   "metadata": {},
   "source": [
    "#### Menganalisa pengaruh jumlah lectures dan jumlah subscribers"
   ]
  },
  {
   "attachments": {},
   "cell_type": "markdown",
   "metadata": {},
   "source": [
    "Melakukan Uji Hipotesis menggunakan spearman test karena data tidak terdistribusi normal <br>\n",
    "H0 = jumlah lectures tidak berpengaruh pada jumlah subscribers <br>\n",
    "H1 = jumlah lectures berpengaruh pada jumlah subscribers"
   ]
  },
  {
   "cell_type": "code",
   "execution_count": 46,
   "metadata": {},
   "outputs": [
    {
     "name": "stdout",
     "output_type": "stream",
     "text": [
      "Koefisien korelasi Spearman: 0.2895563963859366\n",
      "p-value: 4.684282403724947e-66\n",
      "Tolak hipotesis nol.\n",
      "Ada bukti korelasi yang signifikan antara variabel.\n"
     ]
    }
   ],
   "source": [
    "x = paid_course['num_lectures']\n",
    "y = paid_course['num_subscribers']\n",
    " \n",
    "corr, pval = spearmanr(x, y)\n",
    " \n",
    "# print the result\n",
    "print(\"Koefisien korelasi Spearman:\", corr)\n",
    "print(\"p-value:\", pval)\n",
    "\n",
    "if pval <= 0.05:\n",
    "    print(\"Tolak hipotesis nol.\")\n",
    "    print(\"Ada bukti korelasi yang signifikan antara variabel.\")\n",
    "else:\n",
    "    print(\"Gagal menolak hipotesis nol.\")\n",
    "    print(\"Tidak cukup bukti untuk menyimpulkan korelasi yang signifikan.\")"
   ]
  },
  {
   "attachments": {},
   "cell_type": "markdown",
   "metadata": {},
   "source": [
    "Harga course dan jumlah subscriber memiliki tingkat korelasi sebesar 28%. Di sini, 0,28 juga menunjukkan hubungan yang relatif lemah, tetapi positif, menunjukkan bahwa ketika satu variabel meningkat, demikian pula yang lain, meskipun pengaruhnya tidak terlalu kuat. "
   ]
  },
  {
   "attachments": {},
   "cell_type": "markdown",
   "metadata": {},
   "source": [
    "## Penjabaran"
   ]
  },
  {
   "cell_type": "code",
   "execution_count": 28,
   "metadata": {},
   "outputs": [
    {
     "data": {
      "text/plain": [
       "year  subject            \n",
       "2011  Web Development          5\n",
       "2012  Business Finance         6\n",
       "      Graphic Design           8\n",
       "      Musical Instruments      9\n",
       "      Web Development         18\n",
       "2013  Business Finance        77\n",
       "      Graphic Design          23\n",
       "      Musical Instruments     36\n",
       "      Web Development         49\n",
       "2014  Business Finance       170\n",
       "      Graphic Design          65\n",
       "      Musical Instruments    116\n",
       "      Web Development         88\n",
       "2015  Business Finance       326\n",
       "      Graphic Design         159\n",
       "      Musical Instruments    159\n",
       "      Web Development        308\n",
       "2016  Business Finance       315\n",
       "      Graphic Design         169\n",
       "      Musical Instruments    215\n",
       "      Web Development        410\n",
       "2017  Business Finance       205\n",
       "      Graphic Design         144\n",
       "      Musical Instruments     99\n",
       "      Web Development        189\n",
       "dtype: int64"
      ]
     },
     "execution_count": 28,
     "metadata": {},
     "output_type": "execute_result"
    }
   ],
   "source": [
    "subject_by_year = paid_course.groupby(['year', 'subject']).size()\n",
    "subject_by_year"
   ]
  },
  {
   "cell_type": "code",
   "execution_count": 29,
   "metadata": {},
   "outputs": [
    {
     "data": {
      "image/png": "[encoded data removed]",
      "text/plain": [
       "<Figure size 1000x800 with 1 Axes>"
      ]
     },
     "metadata": {},
     "output_type": "display_data"
    }
   ],
   "source": [
    "subject_by_year = subject_by_year.reset_index(name='count')\n",
    "plt.figure(figsize=(10, 8))\n",
    "sns.barplot(x='year', y='count', hue='subject', data=subject_by_year)\n",
    "plt.title('Number of Subjects per Year')\n",
    "plt.show()"
   ]
  },
  {
   "attachments": {},
   "cell_type": "markdown",
   "metadata": {},
   "source": [
    "Subject yang memiliki peminat paling rendah adalah Graphic Design. Keseluruhan data mengalami peningkatan dari 2011 - 2016 dan mengalami penurunan pada tahun 2017"
   ]
  },
  {
   "cell_type": "code",
   "execution_count": 30,
   "metadata": {},
   "outputs": [
    {
     "data": {
      "text/plain": [
       "<Axes: ylabel='is_paid'>"
      ]
     },
     "execution_count": 30,
     "metadata": {},
     "output_type": "execute_result"
    },
    {
     "data": {
      "image/png": "[encoded data removed]",
      "text/plain": [
       "<Figure size 640x480 with 1 Axes>"
      ]
     },
     "metadata": {},
     "output_type": "display_data"
    }
   ],
   "source": [
    "df['is_paid'].value_counts().plot(kind='pie',autopct='%.0f%%')"
   ]
  },
  {
   "cell_type": "code",
   "execution_count": 31,
   "metadata": {},
   "outputs": [
    {
     "data": {
      "text/plain": [
       "<Axes: ylabel='subject'>"
      ]
     },
     "execution_count": 31,
     "metadata": {},
     "output_type": "execute_result"
    },
    {
     "data": {
      "image/png": "[encoded data removed]",
      "text/plain": [
       "<Figure size 640x480 with 1 Axes>"
      ]
     },
     "metadata": {},
     "output_type": "display_data"
    }
   ],
   "source": [
    "paid_course['subject'].value_counts().plot(kind='pie',autopct='%.0f%%')"
   ]
  },
  {
   "attachments": {},
   "cell_type": "markdown",
   "metadata": {},
   "source": [
    "Web Development dan Business Finance memiliki persentase subsriber paling tinggi dengan angka 32% dan 33% dibandingkan subject lainnya"
   ]
  },
  {
   "cell_type": "code",
   "execution_count": 32,
   "metadata": {},
   "outputs": [
    {
     "data": {
      "text/plain": [
       "<Axes: ylabel='level'>"
      ]
     },
     "execution_count": 32,
     "metadata": {},
     "output_type": "execute_result"
    },
    {
     "data": {
      "image/png": "[encoded data removed]",
      "text/plain": [
       "<Figure size 640x480 with 1 Axes>"
      ]
     },
     "metadata": {},
     "output_type": "display_data"
    }
   ],
   "source": [
    "paid_course['level'].value_counts().plot(kind='pie',autopct='%.0f%%')"
   ]
  },
  {
   "attachments": {},
   "cell_type": "markdown",
   "metadata": {},
   "source": [
    "Udemy menyediakan all levels course sebanyak 54% dan beginnir level sebanyak 33% "
   ]
  },
  {
   "attachments": {},
   "cell_type": "markdown",
   "metadata": {},
   "source": [
    "#### Kesimpulan\n",
    "Dari keseluruhan data, terdapat 92% course berbayar yang dimana subject Business Finance dan Business Development menjadi subject yang paling diminati oleh Udemy user. Level course yang disediakan Udemy sebanyak 52% merupakan all levels. Analisa selanjutnya akan berfokus pada paid course untuk mengetahui tipe course yang disukai Udemy users."
   ]
  },
  {
   "cell_type": "code",
   "execution_count": 33,
   "metadata": {},
   "outputs": [
    {
     "data": {
      "text/html": [
       "<div>\n",
       "<style scoped>\n",
       "    .dataframe tbody tr th:only-of-type {\n",
       "        vertical-align: middle;\n",
       "    }\n",
       "\n",
       "    .dataframe tbody tr th {\n",
       "        vertical-align: top;\n",
       "    }\n",
       "\n",
       "    .dataframe thead th {\n",
       "        text-align: right;\n",
       "    }\n",
       "</style>\n",
       "<table border=\"1\" class=\"dataframe\">\n",
       "  <thead>\n",
       "    <tr style=\"text-align: right;\">\n",
       "      <th></th>\n",
       "      <th></th>\n",
       "      <th>num_subscribers</th>\n",
       "    </tr>\n",
       "    <tr>\n",
       "      <th>year</th>\n",
       "      <th>subject</th>\n",
       "      <th></th>\n",
       "    </tr>\n",
       "  </thead>\n",
       "  <tbody>\n",
       "    <tr>\n",
       "      <th>2011</th>\n",
       "      <th>Web Development</th>\n",
       "      <td>5</td>\n",
       "    </tr>\n",
       "    <tr>\n",
       "      <th rowspan=\"4\" valign=\"top\">2012</th>\n",
       "      <th>Business Finance</th>\n",
       "      <td>6</td>\n",
       "    </tr>\n",
       "    <tr>\n",
       "      <th>Graphic Design</th>\n",
       "      <td>8</td>\n",
       "    </tr>\n",
       "    <tr>\n",
       "      <th>Musical Instruments</th>\n",
       "      <td>9</td>\n",
       "    </tr>\n",
       "    <tr>\n",
       "      <th>Web Development</th>\n",
       "      <td>18</td>\n",
       "    </tr>\n",
       "    <tr>\n",
       "      <th rowspan=\"4\" valign=\"top\">2013</th>\n",
       "      <th>Business Finance</th>\n",
       "      <td>77</td>\n",
       "    </tr>\n",
       "    <tr>\n",
       "      <th>Graphic Design</th>\n",
       "      <td>23</td>\n",
       "    </tr>\n",
       "    <tr>\n",
       "      <th>Musical Instruments</th>\n",
       "      <td>36</td>\n",
       "    </tr>\n",
       "    <tr>\n",
       "      <th>Web Development</th>\n",
       "      <td>49</td>\n",
       "    </tr>\n",
       "    <tr>\n",
       "      <th rowspan=\"4\" valign=\"top\">2014</th>\n",
       "      <th>Business Finance</th>\n",
       "      <td>170</td>\n",
       "    </tr>\n",
       "    <tr>\n",
       "      <th>Graphic Design</th>\n",
       "      <td>65</td>\n",
       "    </tr>\n",
       "    <tr>\n",
       "      <th>Musical Instruments</th>\n",
       "      <td>116</td>\n",
       "    </tr>\n",
       "    <tr>\n",
       "      <th>Web Development</th>\n",
       "      <td>88</td>\n",
       "    </tr>\n",
       "    <tr>\n",
       "      <th rowspan=\"4\" valign=\"top\">2015</th>\n",
       "      <th>Business Finance</th>\n",
       "      <td>326</td>\n",
       "    </tr>\n",
       "    <tr>\n",
       "      <th>Graphic Design</th>\n",
       "      <td>159</td>\n",
       "    </tr>\n",
       "    <tr>\n",
       "      <th>Musical Instruments</th>\n",
       "      <td>159</td>\n",
       "    </tr>\n",
       "    <tr>\n",
       "      <th>Web Development</th>\n",
       "      <td>308</td>\n",
       "    </tr>\n",
       "    <tr>\n",
       "      <th rowspan=\"4\" valign=\"top\">2016</th>\n",
       "      <th>Business Finance</th>\n",
       "      <td>315</td>\n",
       "    </tr>\n",
       "    <tr>\n",
       "      <th>Graphic Design</th>\n",
       "      <td>169</td>\n",
       "    </tr>\n",
       "    <tr>\n",
       "      <th>Musical Instruments</th>\n",
       "      <td>215</td>\n",
       "    </tr>\n",
       "    <tr>\n",
       "      <th>Web Development</th>\n",
       "      <td>410</td>\n",
       "    </tr>\n",
       "    <tr>\n",
       "      <th rowspan=\"4\" valign=\"top\">2017</th>\n",
       "      <th>Business Finance</th>\n",
       "      <td>205</td>\n",
       "    </tr>\n",
       "    <tr>\n",
       "      <th>Graphic Design</th>\n",
       "      <td>144</td>\n",
       "    </tr>\n",
       "    <tr>\n",
       "      <th>Musical Instruments</th>\n",
       "      <td>99</td>\n",
       "    </tr>\n",
       "    <tr>\n",
       "      <th>Web Development</th>\n",
       "      <td>189</td>\n",
       "    </tr>\n",
       "  </tbody>\n",
       "</table>\n",
       "</div>"
      ],
      "text/plain": [
       "                          num_subscribers\n",
       "year subject                             \n",
       "2011 Web Development                    5\n",
       "2012 Business Finance                   6\n",
       "     Graphic Design                     8\n",
       "     Musical Instruments                9\n",
       "     Web Development                   18\n",
       "2013 Business Finance                  77\n",
       "     Graphic Design                    23\n",
       "     Musical Instruments               36\n",
       "     Web Development                   49\n",
       "2014 Business Finance                 170\n",
       "     Graphic Design                    65\n",
       "     Musical Instruments              116\n",
       "     Web Development                   88\n",
       "2015 Business Finance                 326\n",
       "     Graphic Design                   159\n",
       "     Musical Instruments              159\n",
       "     Web Development                  308\n",
       "2016 Business Finance                 315\n",
       "     Graphic Design                   169\n",
       "     Musical Instruments              215\n",
       "     Web Development                  410\n",
       "2017 Business Finance                 205\n",
       "     Graphic Design                   144\n",
       "     Musical Instruments               99\n",
       "     Web Development                  189"
      ]
     },
     "execution_count": 33,
     "metadata": {},
     "output_type": "execute_result"
    }
   ],
   "source": [
    "# Subject Paling di Minati setiap tahunnya\n",
    "grouped_data = paid_course.groupby(['year', 'subject'])['num_subscribers']\n",
    "new_table = pd.DataFrame(grouped_data.count())\n",
    "new_table"
   ]
  },
  {
   "attachments": {},
   "cell_type": "markdown",
   "metadata": {},
   "source": [
    "2011 = Web Development<br>\n",
    "2012 = Web Development<br>\n",
    "2013 = Business Finance<br>\n",
    "2014 = Business Finance<br>\n",
    "2015 = Business Finance<br>\n",
    "2016 = Web Development<br>\n",
    "2017 = Business Finance<br>\n",
    "\n",
    "Top Subject adalah Web Development & Business Finance"
   ]
  },
  {
   "cell_type": "code",
   "execution_count": 34,
   "metadata": {},
   "outputs": [
    {
     "data": {
      "text/html": [
       "<div>\n",
       "<style scoped>\n",
       "    .dataframe tbody tr th:only-of-type {\n",
       "        vertical-align: middle;\n",
       "    }\n",
       "\n",
       "    .dataframe tbody tr th {\n",
       "        vertical-align: top;\n",
       "    }\n",
       "\n",
       "    .dataframe thead th {\n",
       "        text-align: right;\n",
       "    }\n",
       "</style>\n",
       "<table border=\"1\" class=\"dataframe\">\n",
       "  <thead>\n",
       "    <tr style=\"text-align: right;\">\n",
       "      <th></th>\n",
       "      <th>course_id</th>\n",
       "      <th>is_paid</th>\n",
       "      <th>price</th>\n",
       "      <th>num_subscribers</th>\n",
       "      <th>num_reviews</th>\n",
       "      <th>num_lectures</th>\n",
       "      <th>level</th>\n",
       "      <th>content_duration</th>\n",
       "      <th>published_timestamp</th>\n",
       "      <th>year</th>\n",
       "    </tr>\n",
       "    <tr>\n",
       "      <th>subject</th>\n",
       "      <th></th>\n",
       "      <th></th>\n",
       "      <th></th>\n",
       "      <th></th>\n",
       "      <th></th>\n",
       "      <th></th>\n",
       "      <th></th>\n",
       "      <th></th>\n",
       "      <th></th>\n",
       "      <th></th>\n",
       "    </tr>\n",
       "  </thead>\n",
       "  <tbody>\n",
       "    <tr>\n",
       "      <th>Business Finance</th>\n",
       "      <td>1099</td>\n",
       "      <td>1099</td>\n",
       "      <td>1099</td>\n",
       "      <td>1099</td>\n",
       "      <td>1099</td>\n",
       "      <td>1099</td>\n",
       "      <td>1099</td>\n",
       "      <td>1099</td>\n",
       "      <td>1099</td>\n",
       "      <td>1099</td>\n",
       "    </tr>\n",
       "    <tr>\n",
       "      <th>Graphic Design</th>\n",
       "      <td>568</td>\n",
       "      <td>568</td>\n",
       "      <td>568</td>\n",
       "      <td>568</td>\n",
       "      <td>568</td>\n",
       "      <td>568</td>\n",
       "      <td>568</td>\n",
       "      <td>568</td>\n",
       "      <td>568</td>\n",
       "      <td>568</td>\n",
       "    </tr>\n",
       "    <tr>\n",
       "      <th>Musical Instruments</th>\n",
       "      <td>634</td>\n",
       "      <td>634</td>\n",
       "      <td>634</td>\n",
       "      <td>634</td>\n",
       "      <td>634</td>\n",
       "      <td>634</td>\n",
       "      <td>634</td>\n",
       "      <td>634</td>\n",
       "      <td>634</td>\n",
       "      <td>634</td>\n",
       "    </tr>\n",
       "    <tr>\n",
       "      <th>Web Development</th>\n",
       "      <td>1067</td>\n",
       "      <td>1067</td>\n",
       "      <td>1067</td>\n",
       "      <td>1067</td>\n",
       "      <td>1067</td>\n",
       "      <td>1067</td>\n",
       "      <td>1067</td>\n",
       "      <td>1067</td>\n",
       "      <td>1067</td>\n",
       "      <td>1067</td>\n",
       "    </tr>\n",
       "  </tbody>\n",
       "</table>\n",
       "</div>"
      ],
      "text/plain": [
       "                     course_id  is_paid  price  num_subscribers  num_reviews  \\\n",
       "subject                                                                        \n",
       "Business Finance          1099     1099   1099             1099         1099   \n",
       "Graphic Design             568      568    568              568          568   \n",
       "Musical Instruments        634      634    634              634          634   \n",
       "Web Development           1067     1067   1067             1067         1067   \n",
       "\n",
       "                     num_lectures  level  content_duration  \\\n",
       "subject                                                      \n",
       "Business Finance             1099   1099              1099   \n",
       "Graphic Design                568    568               568   \n",
       "Musical Instruments           634    634               634   \n",
       "Web Development              1067   1067              1067   \n",
       "\n",
       "                     published_timestamp  year  \n",
       "subject                                         \n",
       "Business Finance                    1099  1099  \n",
       "Graphic Design                       568   568  \n",
       "Musical Instruments                  634   634  \n",
       "Web Development                     1067  1067  "
      ]
     },
     "execution_count": 34,
     "metadata": {},
     "output_type": "execute_result"
    }
   ],
   "source": [
    "#bisa jg dilihat di dataframe ini\n",
    "test1= paid_course.groupby([\"subject\"]).count()\n",
    "test1"
   ]
  },
  {
   "attachments": {},
   "cell_type": "markdown",
   "metadata": {},
   "source": [
    "Menganalisa tipe course yang paling banyak peminatnya berdasarkan subject Web Development dan Business Finance (karena course yang diminati)"
   ]
  },
  {
   "cell_type": "code",
   "execution_count": 35,
   "metadata": {},
   "outputs": [
    {
     "data": {
      "text/plain": [
       "subject           level             \n",
       "Business Finance  All Levels            646\n",
       "                  Beginner Level        300\n",
       "                  Expert Level           31\n",
       "                  Intermediate Level    122\n",
       "Graphic Design    All Levels            283\n",
       "                  Beginner Level        225\n",
       "                  Expert Level            5\n",
       "                  Intermediate Level     55\n",
       "Web Development   All Levels            611\n",
       "                  Beginner Level        323\n",
       "                  Expert Level           15\n",
       "                  Intermediate Level    118\n",
       "Name: num_subscribers, dtype: int64"
      ]
     },
     "execution_count": 35,
     "metadata": {},
     "output_type": "execute_result"
    }
   ],
   "source": [
    "# Analisa berdasarkan level untuk web development \n",
    "test = paid_course[(paid_course['subject'].isin(['Web Development', 'Business Finance','Graphic Design']))].groupby(['subject', 'level'])['num_subscribers'].count()\n",
    "test"
   ]
  },
  {
   "attachments": {},
   "cell_type": "markdown",
   "metadata": {},
   "source": [
    "Berdasarkan tipe level, Udemy users banyak memilih course dengan materi untuk all levels dan beginner level"
   ]
  },
  {
   "cell_type": "code",
   "execution_count": 36,
   "metadata": {},
   "outputs": [
    {
     "name": "stdout",
     "output_type": "stream",
     "text": [
      "Rata - rata durasi waktu course Web Development = 5.972742892845986\n",
      "Rata - rata durasi waktu course Business Finance = 3.6755686988171066\n",
      "Rata - rata durasi waktu course Graphic Design = 3.682922535211268\n"
     ]
    }
   ],
   "source": [
    "# Mencari rata-rata content durasi\n",
    "mean_duration1 = paid_course[paid_course['subject'] == 'Web Development']['content_duration'].mean()\n",
    "mean_duration2 = paid_course[paid_course['subject'] == 'Business Finance']['content_duration'].mean()\n",
    "mean_duration3 = paid_course[paid_course['subject'] == 'Graphic Design']['content_duration'].mean()\n",
    "\n",
    "print(\"Rata - rata durasi waktu course Web Development =\", mean_duration1/60)\n",
    "print(\"Rata - rata durasi waktu course Business Finance =\", mean_duration2/60)\n",
    "print(\"Rata - rata durasi waktu course Graphic Design =\", mean_duration3/60)"
   ]
  },
  {
   "attachments": {},
   "cell_type": "markdown",
   "metadata": {},
   "source": [
    "Durasi course yang paling banyak diminati adalah range 3 - 6 jam"
   ]
  },
  {
   "cell_type": "code",
   "execution_count": 37,
   "metadata": {},
   "outputs": [
    {
     "name": "stdout",
     "output_type": "stream",
     "text": [
      "Rata - rata harga course Web Development = 86.63542642924087\n",
      "Rata - rata harga course Business Finance = 74.54049135577797\n",
      "Rata - rata harga course Graphic Design = 61.390845070422536\n"
     ]
    }
   ],
   "source": [
    "# Mencari rata-rata harga course\n",
    "mean_duration1 = paid_course[paid_course['subject'] == 'Web Development']['price'].mean()\n",
    "mean_duration2 = paid_course[paid_course['subject'] == 'Business Finance']['price'].mean()\n",
    "mean_duration3 = paid_course[paid_course['subject'] == 'Graphic Design']['price'].mean()\n",
    "\n",
    "print(\"Rata - rata harga course Web Development =\", mean_duration1)\n",
    "print(\"Rata - rata harga course Business Finance =\", mean_duration2)\n",
    "print(\"Rata - rata harga course Graphic Design =\", mean_duration3)"
   ]
  },
  {
   "attachments": {},
   "cell_type": "markdown",
   "metadata": {},
   "source": [
    "Harga yang masih terjangkau untuk Udemy users adalah range \"$61\" - \"$87\""
   ]
  },
  {
   "cell_type": "code",
   "execution_count": 38,
   "metadata": {},
   "outputs": [
    {
     "name": "stdout",
     "output_type": "stream",
     "text": [
      "Median jumlah lectures course Web Development = 36.0\n",
      "Median jumlah lectures Business Finance = 22.0\n",
      "Median jumlah lectures Graphic Design = 22.0\n"
     ]
    }
   ],
   "source": [
    "# Mencari rata-rata jumlah lectures\n",
    "mean_duration1 = paid_course[paid_course['subject'] == 'Web Development']['num_lectures'].median()\n",
    "mean_duration2 = paid_course[paid_course['subject'] == 'Business Finance']['num_lectures'].median()\n",
    "mean_duration3 = paid_course[paid_course['subject'] == 'Graphic Design']['num_lectures'].median()\n",
    "\n",
    "print(\"Median jumlah lectures course Web Development =\", mean_duration1)\n",
    "print(\"Median jumlah lectures Business Finance =\", mean_duration2)\n",
    "print(\"Median jumlah lectures Graphic Design =\", mean_duration3)"
   ]
  },
  {
   "attachments": {},
   "cell_type": "markdown",
   "metadata": {},
   "source": [
    "Range jumlah lecture adalah 22 - 36 lecture, yang artinya users menikmati course jika lebih dari 2 lecture yang memaparkan materi"
   ]
  },
  {
   "attachments": {},
   "cell_type": "markdown",
   "metadata": {},
   "source": [
    "# Kesimpulan\n",
    "\n",
    "Berdasarkan data pertahunnya, Course berbayar dengan subject yang paling sedikit peminatnya adalah Graphic Design. Analisa ini dilakukan dengan membandingkan jumlah subscriber dari subject lainnya. Hal ini dilakukan karena Udemy ingin menambahkan course dengan subject Graphic Design dengan harapan jumlah subscribernya akan meningkat. Kriteria course di analisa dengan mengetahui user behaviour dari course dengan peminat terbanyak yaitu web development dan business finance. <br>\n",
    "\n",
    "Sebelum mengolah data, di cek terlebih dahulu apakah ada korelasi antara metric satu dengan yang lainnya menggunakan metode Spearman Test. Dapat di simpulkan bahwa adanya korelasi antara jumlah subscriber dengan harga course, durasi content, jumlah reviews dan jumlah lecture yang mengajar course. \n",
    "\n",
    "Point penting: <br>\n",
    "- all levels dan beginner level course paling banyak diminati \n",
    "- durasi course yang ideal (banyak peminatnya) adalah range 3 - 6 jam\n",
    "- dengan harga yg tergolong terjangkau untuk Udemy users adalah range \"$61\" - \"$87\"\n",
    "- dan jumlah lecture yang ideal range 22 - 36 <br> \n",
    "\n",
    "Dengan mengetahui kriteria course akan memudahkan Udemy untuk memfilter course jika ingin menambahkan course baru dan tentunya dapat memaksimalkan jumlah subscriber pada subject Graphic Design menggunakan strategi marketing yang dimana mentargetkan audience yang memiliki interest di graphic design dan melakukan remarketing bagi user yang sudah menyelesaikan all level/beginner level untuk melanjutkan coursenya di level intermediete dan advance."
   ]
  },
  {
   "cell_type": "code",
   "execution_count": 39,
   "metadata": {},
   "outputs": [],
   "source": [
    "paid_course.to_csv('Paid Course.csv', index=False)"
   ]
  }
 ],
 "metadata": {
  "kernelspec": {
   "display_name": "DataScience",
   "language": "python",
   "name": "python3"
  },
  "language_info": {
   "codemirror_mode": {
    "name": "ipython",
    "version": 3
   },
   "file_extension": ".py",
   "mimetype": "text/x-python",
   "name": "python",
   "nbconvert_exporter": "python",
   "pygments_lexer": "ipython3",
   "version": "3.9.16"
  },
  "orig_nbformat": 4
 },
 "nbformat": 4,
 "nbformat_minor": 2
}
